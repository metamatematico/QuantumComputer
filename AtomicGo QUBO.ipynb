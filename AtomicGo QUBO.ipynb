{
 "cells": [
  {
   "cell_type": "markdown",
   "metadata": {},
   "source": [
    "Este código está utilizando la computación cuántica para resolver un problema de optimización. Aquí está lo que hace cada parte:\n",
    "\n",
    "1. Importa las bibliotecas necesarias para interactuar con el hardware cuántico de D-Wave y para construir el modelo de optimización.\n",
    "\n",
    "2. Configura el tipo de solver y el token de autenticación para interactuar con el hardware de D-Wave.\n",
    "\n",
    "3. Inicializa el solver con la configuración especificada.\n",
    "\n",
    "4. Define los parámetros del modelo. En este caso, `mu` es un parámetro del modelo y `N` es el tamaño del tablero de Go.\n",
    "\n",
    "5. Crea variables de spin para cada posición en el tablero de Go. En física, el \"spin\" es una propiedad cuántica que puede ser utilizada para representar estados binarios.\n",
    "\n",
    "6. Define un valor ficticio para `h`, que representa el número de libertades de cada posición en el tablero.\n",
    "\n",
    "7. Construye el Hamiltoniano Ising, que es una representación matemática del problema de optimización. En este caso, el Hamiltoniano incluye interacciones entre vecinos y un término que representa las libertades.\n",
    "\n",
    "8. Crea un modelo binario cuadrático a partir del Hamiltoniano.\n",
    "\n",
    "9. Crea un sampler, que es un objeto que puede encontrar la solución óptima al problema de optimización.\n",
    "\n",
    "10. Muestra el resultado de la optimización utilizando el inspector de D-Wave.\n",
    "\n",
    "En resumen, este código está utilizando la computación cuántica para encontrar la configuración óptima de un tablero de Go, dadas ciertas restricciones y parámetros."
   ]
  },
  {
   "cell_type": "code",
   "execution_count": 56,
   "metadata": {},
   "outputs": [
    {
     "data": {
      "text/html": [
       "<iframe src=http://127.0.0.1:18000/?problemId=eb1a2565-cd6a-42e8-9d84-bd06659426f9 width=\"100%\" height=640></iframe>"
      ],
      "text/plain": [
       "Serving Inspector on http://127.0.0.1:18000/?problemId=eb1a2565-cd6a-42e8-9d84-bd06659426f9"
      ]
     },
     "metadata": {},
     "output_type": "display_data"
    },
    {
     "data": {
      "text/plain": [
       "'http://127.0.0.1:18000/?problemId=eb1a2565-cd6a-42e8-9d84-bd06659426f9'"
      ]
     },
     "execution_count": 56,
     "metadata": {},
     "output_type": "execute_result"
    }
   ],
   "source": [
    "from dwave.system import DWaveSampler, EmbeddingComposite\n",
    "from dwave.inspector import show\n",
    "import dimod\n",
    "import dwave.inspector as ins\n",
    "\n",
    "# Configuración del solver\n",
    "solver_type = 'Advantage2_prototype2.3'\n",
    "\n",
    "# Tu token de D-Wave\n",
    "dwave_token = \"DEV-951435db241ce06d7f8f8ce960e5c44c5475f72d\"\n",
    "\n",
    "# Inicialización del solver con la configuración especificada\n",
    "solver = DWaveSampler(solver=solver_type, token=dwave_token)\n",
    "\n",
    "# Parámetros del modelo\n",
    "mu = 1.0  # Supongamos que mu es 1 para este ejemplo\n",
    "\n",
    "# Tamaño del tablero, ej. 9x9 para un tablero estándar de Go pequeño\n",
    "N = 19\n",
    "\n",
    "# Crear variables de Spin para cada posición en el tablero\n",
    "spins = {(i, j): i*N+j for i in range(N) for j in range(N)}\n",
    "\n",
    "# Suponiendo que h_i(t) se puede calcular o se da como input. Aquí usamos un valor ficticio\n",
    "# Por ejemplo, todos tienen 4 libertades inicialmente (completamente abierto)\n",
    "h = {(i, j): 4 for i in range(N) for j in range(N)}\n",
    "\n",
    "# Construir el Hamiltoniano Ising\n",
    "h_values = {}\n",
    "J_values = {}\n",
    "for i in range(N):\n",
    "    for j in range(N):\n",
    "        # Añade la interacción con los vecinos si están dentro de los límites del tablero\n",
    "        if i < N-1:  # Sur\n",
    "            J_values[(spins[(i, j)], spins[(i+1, j)])] = -1\n",
    "        if i > 0:  # Norte\n",
    "            J_values[(spins[(i, j)], spins[(i-1, j)])] = -1\n",
    "        if j < N-1:  # Este\n",
    "            J_values[(spins[(i, j)], spins[(i, j+1)])] = -1\n",
    "        if j > 0:  # Oeste\n",
    "            J_values[(spins[(i, j)], spins[(i, j-1)])] = -1\n",
    "        \n",
    "        # Añadir el término de libertades\n",
    "        h_values[spins[(i, j)]] = -mu * h[(i, j)]\n",
    "\n",
    "# Crear el modelo binario\n",
    "model = dimod.BinaryQuadraticModel(h_values, J_values, 0.0, dimod.SPIN)\n",
    "\n",
    "# Crear un sampler\n",
    "sampler = EmbeddingComposite(solver)\n",
    "# Muestrear el modelo\n",
    "response = sampler.sample(model)\n",
    "\n",
    "# Mostrar el inspector\n",
    "ins.show(response)\n",
    "\n"
   ]
  },
  {
   "cell_type": "markdown",
   "metadata": {},
   "source": [
    "Este código es muy similar al anterior, pero con una diferencia clave: este código establece una configuración inicial para el tablero de Go.\n",
    "\n",
    "En el código anterior, todas las posiciones del tablero se inicializan con el mismo valor. En este código, sin embargo, se establece una configuración inicial específica para el tablero. En particular, se coloca una piedra blanca en la posición (1, 1) y una piedra negra en la posición (4, 4).\n",
    "\n",
    "Además, este código configura los valores de `h_values` de acuerdo con el estado inicial del tablero. En el código anterior, `h_values` se configura en función de un valor ficticio que representa el número de libertades de cada posición en el tablero.\n",
    "\n",
    "En resumen, este código tiene en cuenta una configuración inicial específica del tablero de Go, mientras que el código anterior no lo hace. Ambos códigos utilizan la computación cuántica para encontrar la configuración óptima del tablero de Go, dadas ciertas restricciones y parámetros."
   ]
  },
  {
   "cell_type": "code",
   "execution_count": 57,
   "metadata": {},
   "outputs": [
    {
     "data": {
      "text/html": [
       "<iframe src=http://127.0.0.1:18000/?problemId=d7516508-f0cd-4910-b48b-36eff1e52c1d width=\"100%\" height=640></iframe>"
      ],
      "text/plain": [
       "Serving Inspector on http://127.0.0.1:18000/?problemId=d7516508-f0cd-4910-b48b-36eff1e52c1d"
      ]
     },
     "metadata": {},
     "output_type": "display_data"
    },
    {
     "data": {
      "text/plain": [
       "'http://127.0.0.1:18000/?problemId=d7516508-f0cd-4910-b48b-36eff1e52c1d'"
      ]
     },
     "execution_count": 57,
     "metadata": {},
     "output_type": "execute_result"
    }
   ],
   "source": [
    "from dwave.system import DWaveSampler, EmbeddingComposite\n",
    "from dwave.inspector import show\n",
    "import dimod\n",
    "import dwave.inspector as ins\n",
    "\n",
    "# Configuración del solver\n",
    "solver_type = 'Advantage2_prototype2.3'\n",
    "\n",
    "# Tu token de D-Wave\n",
    "dwave_token = \"DEV-951435db241ce06d7f8f8ce960e5c44c5475f72d\"\n",
    "\n",
    "# Inicialización del solver con la configuración especificada\n",
    "solver = DWaveSampler(solver=solver_type, token=dwave_token)\n",
    "\n",
    "# Parámetros del modelo\n",
    "mu = 1.0  # Supongamos que mu es 1 para este ejemplo\n",
    "\n",
    "# Tamaño del tablero, ej. 9x9 para un tablero estándar de Go pequeño\n",
    "N = 5\n",
    "\n",
    "# Crear variables de Spin para cada posición en el tablero\n",
    "spins = {(i, j): i*N+j for i in range(N) for j in range(N)}\n",
    "\n",
    "# Configuración inicial del tablero\n",
    "initial_board = {(i, j): 0 for i in range(N) for j in range(N)}\n",
    "initial_board[(1, 1)] = 1  # Piedra blanca\n",
    "initial_board[(4, 4)] = -1  # Piedra negra\n",
    "\n",
    "# Configurar h_values de acuerdo con el estado inicial del tablero\n",
    "h_values = {spins[(i, j)]: initial_board[(i, j)] for i in range(N) for j in range(N)}\n",
    "\n",
    "# Suponiendo que h_i(t) se puede calcular o se da como input. Aquí usamos un valor ficticio\n",
    "# Por ejemplo, todos tienen 4 libertades inicialmente (completamente abierto)\n",
    "h = {(i, j): 4 for i in range(N) for j in range(N)}\n",
    "\n",
    "# Construir el Hamiltoniano Ising\n",
    "J_values = {}\n",
    "for i in range(N):\n",
    "    for j in range(N):\n",
    "        # Añade la interacción con los vecinos si están dentro de los límites del tablero\n",
    "        if i < N-1:  # Sur\n",
    "            J_values[(spins[(i, j)], spins[(i+1, j)])] = -1\n",
    "        if i > 0:  # Norte\n",
    "            J_values[(spins[(i, j)], spins[(i-1, j)])] = -1\n",
    "        if j < N-1:  # Este\n",
    "            J_values[(spins[(i, j)], spins[(i, j+1)])] = -1\n",
    "        if j > 0:  # Oeste\n",
    "            J_values[(spins[(i, j)], spins[(i, j-1)])] = -1\n",
    "\n",
    "# Crear el modelo binario\n",
    "model = dimod.BinaryQuadraticModel(h_values, J_values, 0.0, dimod.SPIN)\n",
    "\n",
    "# Crear un sampler\n",
    "sampler = EmbeddingComposite(solver)\n",
    "# Muestrear el modelo\n",
    "response = sampler.sample(model)\n",
    "\n",
    "# Mostrar el inspector\n",
    "ins.show(response)"
   ]
  },
  {
   "cell_type": "markdown",
   "metadata": {},
   "source": [
    "Experimento ocupando en el ISING una sigmoide transformada\n",
    "Comparación entre este código y el anterior\n",
    "Ambos códigos están diseñados para resolver problemas de optimización cuántica utilizando el modelo Ising y el solver D-Wave. Sin embargo, hay varias diferencias clave entre ellos:\n",
    "\n",
    "1. **Configuración inicial del tablero**: En el primer código, el tablero inicial se configura manualmente con un diccionario y se establecen dos posiciones con piedras blancas y negras. En el segundo código, se utiliza `numpy.zeros` para crear un tablero inicial y también se establecen dos posiciones con piedras blancas y negras, pero en diferentes posiciones que en el primer código.\n",
    "\n",
    "2. **Cálculo de h_values**: En el primer código, `h_values` se configura simplemente en base al estado inicial del tablero. En el segundo código, se utiliza una función más compleja `compute_local_energy` para calcular `h_values`, que toma en cuenta la energía local de cada posición en el tablero. Esta función considera las libertades de cada posición (es decir, el número de posiciones adyacentes vacías) y las transforma utilizando una función sigmoide.\n",
    "\n",
    "3. **Impresión de respuestas**: El segundo código incluye una función `print_all_responses` que imprime todas las respuestas del sampler, mientras que el primer código no tiene esta funcionalidad.\n",
    "\n",
    "4. **Cambio de tamaño del tablero**: El segundo código incluye una función `change_board_size` que permite cambiar el tamaño del tablero. Esta función actualiza el tablero inicial, las variables de spin y `h_values` para adaptarse al nuevo tamaño del tablero. El primer código no tiene esta funcionalidad.\n",
    "\n",
    "En resumen, aunque ambos códigos están diseñados para resolver el mismo tipo de problema, el segundo código es más sofisticado y flexible, permitiendo un cálculo más detallado de `h_values` y la posibilidad de cambiar el tamaño del tablero."
   ]
  },
  {
   "cell_type": "code",
   "execution_count": 60,
   "metadata": {},
   "outputs": [
    {
     "name": "stdout",
     "output_type": "stream",
     "text": [
      "Configuración: {0: 1, 1: 1, 2: 1, 3: 1, 4: 1, 5: 1, 6: 1, 7: 1, 8: 1, 9: 1, 10: 1, 11: 1, 12: 1, 13: 1, 14: 1, 15: 1, 16: 1, 17: 1, 18: 1, 19: 1, 20: 1, 21: 1, 22: 1, 23: 1, 24: 1}, Energía: -96.15581354755936\n"
     ]
    },
    {
     "data": {
      "text/html": [
       "<iframe src=http://127.0.0.1:18000/?problemId=cb0a2da4-0271-4d64-aabd-09ba6357bed4 width=\"100%\" height=640></iframe>"
      ],
      "text/plain": [
       "Serving Inspector on http://127.0.0.1:18000/?problemId=cb0a2da4-0271-4d64-aabd-09ba6357bed4"
      ]
     },
     "metadata": {},
     "output_type": "display_data"
    },
    {
     "data": {
      "text/plain": [
       "'http://127.0.0.1:18000/?problemId=cb0a2da4-0271-4d64-aabd-09ba6357bed4'"
      ]
     },
     "execution_count": 60,
     "metadata": {},
     "output_type": "execute_result"
    }
   ],
   "source": [
    "import numpy as np\n",
    "from dwave.system import DWaveSampler, EmbeddingComposite\n",
    "from dwave.inspector import show\n",
    "import dimod\n",
    "import dwave.inspector as ins\n",
    "\n",
    "# Configuración del solver\n",
    "solver_type = 'Advantage2_prototype2.3'\n",
    "\n",
    "# Tu token de D-Wave\n",
    "dwave_token = \"DEV-951435db241ce06d7f8f8ce960e5c44c5475f72d\"\n",
    "\n",
    "# Inicialización del solver con la configuración especificada\n",
    "solver = DWaveSampler(solver=solver_type, token=dwave_token)\n",
    "\n",
    "# Parámetros del modelo\n",
    "mu = 1.0  # Supongamos que mu es 1 para este ejemplo\n",
    "\n",
    "# Tamaño del tablero, ej. 9x9 para un tablero estándar de Go pequeño\n",
    "N = 5\n",
    "\n",
    "# Crear variables de Spin para cada posición en el tablero\n",
    "spins = {(i, j): i*N+j for i in range(N) for j in range(N)}\n",
    "\n",
    "# Configuración inicial del tablero\n",
    "initial_board = np.zeros((N, N))\n",
    "initial_board[(2, 2)] = 1  # Piedra blanca\n",
    "initial_board[(3, 3)] = -1  # Piedra negra\n",
    "\n",
    "# Funciones del primer script adaptadas para calcular la energía y las libertades\n",
    "def sigmoid_transformed(x):\n",
    "    return 1 / (1 + np.exp(-1 / np.sqrt(x + 0.0001)))\n",
    "\n",
    "def get_neighbors_positions(i, j, BOARD_SIZE):\n",
    "    return [(i-1, j), (i+1, j), (i, j-1), (i, j+1)]\n",
    "\n",
    "def compute_liberties(board, i, j, BOARD_SIZE):\n",
    "    empty_spots = [1 if board[k][l] == 0 else 0 for k, l in get_neighbors_positions(i, j, BOARD_SIZE) if k >= 0 and l >= 0 and k < BOARD_SIZE and l < BOARD_SIZE]\n",
    "    return sum(empty_spots)\n",
    "\n",
    "def compute_local_energy(board, i, j, mu, BOARD_SIZE):\n",
    "    xi = board[i][j]\n",
    "    neighbors = [board[x][y] for x, y in get_neighbors_positions(i, j, BOARD_SIZE) if x >= 0 and y >= 0 and x < BOARD_SIZE and y < BOARD_SIZE]\n",
    "    liberties = compute_liberties(board, i, j, BOARD_SIZE)\n",
    "    sigmoid_liberties_effect = sigmoid_transformed(liberties)\n",
    "    return xi * sum(neighbors) - mu * sigmoid_liberties_effect\n",
    "\n",
    "# Configurar h_values de acuerdo con el estado inicial del tablero y la energía local\n",
    "h_values = {spins[(i, j)]: compute_local_energy(initial_board, i, j, mu, N) for i in range(N) for j in range(N)}\n",
    "\n",
    "# Construir el Hamiltoniano Ising\n",
    "J_values = {}\n",
    "for i in range(N):\n",
    "    for j in range(N):\n",
    "        # Añade la interacción con los vecinos si están dentro de los límites del tablero\n",
    "        if i < N-1:  # Sur\n",
    "            J_values[(spins[(i, j)], spins[(i+1, j)])] = -1\n",
    "        if i > 0:  # Norte\n",
    "            J_values[(spins[(i, j)], spins[(i-1, j)])] = -1\n",
    "        if j < N-1:  # Este\n",
    "            J_values[(spins[(i, j)], spins[(i, j+1)])] = -1\n",
    "        if j > 0:  # Oeste\n",
    "            J_values[(spins[(i, j)], spins[(i, j-1)])] = -1\n",
    "\n",
    "# Crear el modelo binario\n",
    "model = dimod.BinaryQuadraticModel(h_values, J_values, 0.0, dimod.SPIN)\n",
    "\n",
    "# Crear un sampler\n",
    "sampler = EmbeddingComposite(solver)\n",
    "\n",
    "# Muestrear el modelo\n",
    "response = sampler.sample(model)\n",
    "\n",
    "# Función para imprimir todas las respuestas\n",
    "def print_all_responses(response):\n",
    "    for sample, energy in response.data(['sample', 'energy']):\n",
    "        print(f\"Configuración: {sample}, Energía: {energy}\")\n",
    "\n",
    "print_all_responses(response)\n",
    "\n",
    "# Función para cambiar el tamaño del tablero\n",
    "def change_board_size(new_size):\n",
    "    global N\n",
    "    N = new_size\n",
    "    global initial_board\n",
    "    initial_board = np.zeros((N, N))\n",
    "    global spins\n",
    "    spins = {(i, j): i*N+j for i in range(N) for j in range(N)}\n",
    "    global h_values\n",
    "    h_values = {spins[(i, j)]: compute_local_energy(initial_board, i, j, mu, N) for i in range(N) for j in range(N)}\n",
    "\n",
    "# Cambiar el tamaño del tablero a 9\n",
    "change_board_size(9)\n",
    "\n",
    "# Mostrar el inspector\n",
    "ins.show(response)"
   ]
  },
  {
   "cell_type": "markdown",
   "metadata": {},
   "source": [
    "OIsing con muchos parámetros sin correlacionar\n",
    "Este código está diseñado para resolver un problema de optimización en el juego de Go utilizando un ordenador cuántico D-Wave. Aquí está lo que hace cada parte:\n",
    "\n",
    "1. Importa las bibliotecas necesarias.\n",
    "\n",
    "2. Configura el solver D-Wave con un token y un tipo de solver específicos.\n",
    "\n",
    "3. Define los parámetros del modelo, incluyendo `mu` y el tamaño del tablero `N`.\n",
    "\n",
    "4. Crea una representación de las posiciones en el tablero de Go como variables de spin.\n",
    "\n",
    "5. Define el estado inicial del tablero, con una piedra blanca en la posición (2,2) y una piedra negra en la posición (3,3).\n",
    "\n",
    "6. Define varias funciones para calcular la energía local y las libertades de una posición en el tablero.\n",
    "\n",
    "7. Configura los valores de `h` para cada posición en el tablero, basándose en la energía local.\n",
    "\n",
    "8. Construye el Hamiltoniano Ising, que representa la energía del sistema, incluyendo las interacciones entre las posiciones vecinas en el tablero.\n",
    "\n",
    "9. Crea un modelo binario cuadrático (BQM) a partir de los valores de `h` y `J`, y un tipo de variable de spin.\n",
    "\n",
    "10. Crea un sampler, que es un objeto que puede muestrear (es decir, encontrar soluciones a) el BQM.\n",
    "\n",
    "11. Muestrea el BQM y guarda la respuesta.\n",
    "\n",
    "12. Define una función para imprimir todas las respuestas (es decir, las soluciones al BQM y sus energías correspondientes).\n",
    "\n",
    "13. Imprime todas las respuestas.\n",
    "\n",
    "14. Define una función para cambiar el tamaño del tablero, que actualiza `N`, `initial_board`, `spins` y `h_values` en consecuencia.\n",
    "\n",
    "15. Cambia el tamaño del tablero a 9.\n",
    "\n",
    "16. Muestra el inspector D-Wave, que proporciona una interfaz gráfica para visualizar la respuesta."
   ]
  },
  {
   "cell_type": "code",
   "execution_count": 11,
   "metadata": {},
   "outputs": [
    {
     "data": {
      "text/html": [
       "<iframe src=http://127.0.0.1:18000/?problemId=82b8d85e-ff20-40ba-aca5-c4e06d2b3d87 width=\"100%\" height=640></iframe>"
      ],
      "text/plain": [
       "Serving Inspector on http://127.0.0.1:18000/?problemId=82b8d85e-ff20-40ba-aca5-c4e06d2b3d87"
      ]
     },
     "metadata": {},
     "output_type": "display_data"
    },
    {
     "data": {
      "text/plain": [
       "'http://127.0.0.1:18000/?problemId=82b8d85e-ff20-40ba-aca5-c4e06d2b3d87'"
      ]
     },
     "execution_count": 11,
     "metadata": {},
     "output_type": "execute_result"
    }
   ],
   "source": [
    "import numpy as np\n",
    "from dwave.system import DWaveSampler, EmbeddingComposite\n",
    "from dwave.inspector import show\n",
    "import dimod\n",
    "import dwave.inspector as ins\n",
    "\n",
    "# Configuración del solver\n",
    "solver_type = 'Advantage2_prototype2.3'\n",
    "\n",
    "# Tu token de D-Wave\n",
    "dwave_token = \"DEV-951435db241ce06d7f8f8ce960e5c44c5475f72d\"\n",
    "\n",
    "# Inicialización del solver con la configuración especificada\n",
    "solver = DWaveSampler(solver=solver_type, token=dwave_token)\n",
    "\n",
    "# Parámetros del modelo\n",
    "params = {\n",
    "    'J': np.random.uniform(0.1, 1.0),  # Interacción entre piedras adyacentes.\n",
    "    'J_ij': np.random.uniform(0.1, 1.0),  # Interacción a larga distancia.\n",
    "    'alpha': np.random.uniform(0.1, 1.0),  # Coeficiente de decaimiento para la interacción a larga distancia.\n",
    "    'L': np.random.uniform(0.1, 1.0),  # Importancia de las situaciones de Ko y Seki.\n",
    "    'M': np.random.uniform(0.1, 1.0),  # Importancia de las condiciones de borde.\n",
    "    'R': np.random.uniform(0.1, 1.0),  # Ajuste basado en la fase del juego.\n",
    "    'size': 9,  # Tamaño del tablero.\n",
    "}\n",
    "\n",
    "# Definir el estado inicial del tablero para un tablero de 9x9.\n",
    "board = np.random.choice([-1, 0, 1], size=(params['size'], params['size']))\n",
    "\n",
    "# Crear variables de Spin para cada posición en el tablero\n",
    "spins = {(i, j): i*params['size']+j for i in range(params['size']) for j in range(params['size'])}\n",
    "\n",
    "# Configurar h_values de acuerdo con el estado inicial del tablero\n",
    "h_values = {spins[(i, j)]: board[i, j] for i in range(params['size']) for j in range(params['size'])}\n",
    "\n",
    "# Construir el Hamiltoniano Ising\n",
    "J_values = {}\n",
    "for i in range(params['size']):\n",
    "    for j in range(params['size']):\n",
    "        # Añade la interacción con los vecinos si están dentro de los límites del tablero\n",
    "        if i < params['size']-1:  # Sur\n",
    "            J_values[(spins[(i, j)], spins[(i+1, j)])] = -params['J']\n",
    "        if i > 0:  # Norte\n",
    "            J_values[(spins[(i, j)], spins[(i-1, j)])] = -params['J']\n",
    "        if j < params['size']-1:  # Este\n",
    "            J_values[(spins[(i, j)], spins[(i, j+1)])] = -params['J']\n",
    "        if j > 0:  # Oeste\n",
    "            J_values[(spins[(i, j)], spins[(i, j-1)])] = -params['J']\n",
    "\n",
    "# Crear el modelo binario\n",
    "model = dimod.BinaryQuadraticModel(h_values, J_values, 0.0, dimod.SPIN)\n",
    "\n",
    "# Crear un sampler\n",
    "sampler = EmbeddingComposite(solver)\n",
    "# Muestrear el modelo\n",
    "response = sampler.sample(model)\n",
    "\n",
    "# Mostrar el inspector\n",
    "ins.show(response)"
   ]
  },
  {
   "cell_type": "markdown",
   "metadata": {},
   "source": [
    "ISING con parámetros correlacionados\n",
    "Este código está diseñado para resolver un problema de optimización cuántica utilizando la biblioteca D-Wave. Aquí está lo que hace cada parte del código:\n",
    "\n",
    "Importa las bibliotecas necesarias.\n",
    "\n",
    "Configura el tipo de solver y el token de D-Wave.\n",
    "\n",
    "Inicializa el solver con la configuración especificada.\n",
    "\n",
    "Define los parámetros base del modelo, que representan diferentes aspectos del problema de optimización.\n",
    "\n",
    "Define el tamaño del tablero de juego.\n",
    "\n",
    "Calcula los parámetros del modelo, algunos de los cuales están correlacionados con otros. Por ejemplo, M está directamente correlacionado con J, y R está directamente correlacionado con alpha.\n",
    "\n",
    "Define el estado inicial del tablero de juego, que es un tablero de 9x9 con valores aleatorios de -1, 0, o 1.\n",
    "\n",
    "Crea variables de spin para cada posición en el tablero.\n",
    "\n",
    "Configura los valores de h de acuerdo con el estado inicial del tablero.\n",
    "\n",
    "Construye el Hamiltoniano Ising, que es la función de energía para el problema de optimización.\n",
    "\n",
    "Crea el modelo binario cuadrático, que es la representación del problema de optimización que se resolverá.\n",
    "\n",
    "Crea un sampler, que es el objeto que resolverá el problema de optimización.\n",
    "\n",
    "Muestrea el modelo, es decir, resuelve el problema de optimización.\n",
    "\n",
    "Muestra el inspector, que es una herramienta de D-Wave para visualizar los resultados de la optimización.\n",
    "\n",
    "Las variables correlacionadas en este código son M y R. M está directamente correlacionado con J, y R está directamente correlacionado con alpha. Esto significa que los valores de M y R dependen de los valores de J y alpha, respectivamente."
   ]
  },
  {
   "cell_type": "code",
   "execution_count": 64,
   "metadata": {},
   "outputs": [
    {
     "data": {
      "text/html": [
       "<iframe src=http://127.0.0.1:18000/?problemId=f5fb5c38-0180-4631-a468-2f6104b3ef35 width=\"100%\" height=640></iframe>"
      ],
      "text/plain": [
       "Serving Inspector on http://127.0.0.1:18000/?problemId=f5fb5c38-0180-4631-a468-2f6104b3ef35"
      ]
     },
     "metadata": {},
     "output_type": "display_data"
    },
    {
     "data": {
      "text/plain": [
       "'http://127.0.0.1:18000/?problemId=f5fb5c38-0180-4631-a468-2f6104b3ef35'"
      ]
     },
     "execution_count": 64,
     "metadata": {},
     "output_type": "execute_result"
    }
   ],
   "source": [
    "import numpy as np\n",
    "from dwave.system import DWaveSampler, EmbeddingComposite\n",
    "from dwave.inspector import show\n",
    "import dimod\n",
    "import dwave.inspector as ins\n",
    "\n",
    "# Configuración del solver\n",
    "solver_type = 'Advantage2_prototype2.3'\n",
    "\n",
    "# Tu token de D-Wave\n",
    "dwave_token = \"DEV-951435db241ce06d7f8f8ce960e5c44c5475f72d\"\n",
    "\n",
    "# Inicialización del solver con la configuración especificada\n",
    "solver = DWaveSampler(solver=solver_type, token=dwave_token)\n",
    "\n",
    "# Parámetros base del modelo\n",
    "base_J = 0.5  # Interacción base entre piedras adyacentes.\n",
    "base_alpha = 0.8  # Coeficiente base de decaimiento para la interacción a larga distancia.\n",
    "base_L = 0.3  # Importancia base de las situaciones de Ko y Seki.\n",
    "base_M = 0.7  # Importancia base de las condiciones de borde.\n",
    "base_R = 0.6  # Ajuste base basado en la fase del juego.\n",
    "\n",
    "# Tamaño del tablero\n",
    "size = 9\n",
    "\n",
    "# Correlación entre parámetros\n",
    "J = base_J * np.random.uniform(0.9, 1.1)\n",
    "alpha = base_alpha * np.random.uniform(0.9, 1.1)\n",
    "L = base_L * np.random.uniform(0.9, 1.1)\n",
    "M = base_M * J  # M está directamente correlacionado con J.\n",
    "R = base_R * alpha  # R está directamente correlacionado con alpha.\n",
    "\n",
    "# Definir el estado inicial del tablero para un tablero de 9x9.\n",
    "board = np.random.choice([-1, 0, 1], size=(size, size))\n",
    "\n",
    "# Crear variables de Spin para cada posición en el tablero\n",
    "spins = {(i, j): i*size+j for i in range(size) for j in range(size)}\n",
    "\n",
    "# Configurar h_values de acuerdo con el estado inicial del tablero\n",
    "h_values = {spins[(i, j)]: board[i, j] for i in range(size) for j in range(size)}\n",
    "\n",
    "# Construir el Hamiltoniano Ising\n",
    "J_values = {}\n",
    "for i in range(size):\n",
    "    for j in range(size):\n",
    "        # Añade la interacción con los vecinos si están dentro de los límites del tablero\n",
    "        if i < size-1:  # Sur\n",
    "            J_values[(spins[(i, j)], spins[(i+1, j)])] = -J\n",
    "        if i > 0:  # Norte\n",
    "            J_values[(spins[(i, j)], spins[(i-1, j)])] = -J\n",
    "        if j < size-1:  # Este\n",
    "            J_values[(spins[(i, j)], spins[(i, j+1)])] = -J\n",
    "        if j > 0:  # Oeste\n",
    "            J_values[(spins[(i, j)], spins[(i, j-1)])] = -J\n",
    "\n",
    "# Crear el modelo binario cuadrático\n",
    "model = dimod.BinaryQuadraticModel(h_values, J_values, 0.0, dimod.SPIN)\n",
    "\n",
    "# Crear un sampler\n",
    "sampler = EmbeddingComposite(solver)\n",
    "# Muestrear el modelo\n",
    "response = sampler.sample(model)\n",
    "\n",
    "# Mostrar el inspector\n",
    "ins.show(response)"
   ]
  },
  {
   "cell_type": "code",
   "execution_count": 65,
   "metadata": {},
   "outputs": [
    {
     "name": "stdout",
     "output_type": "stream",
     "text": [
      "Posición: 0\n",
      "  Configuración: {0: -1, 1: -1, 2: -1, 3: -1, 4: -1, 5: -1, 6: 1, 7: 1, 8: 1, 9: -1, 10: -1, 11: -1, 12: -1, 13: -1, 14: -1, 15: 1, 16: 1, 17: 1, 18: -1, 19: -1, 20: -1, 21: -1, 22: -1, 23: -1, 24: 1, 25: 1, 26: 1, 27: -1, 28: -1, 29: -1, 30: -1, 31: -1, 32: -1, 33: 1, 34: 1, 35: 1, 36: -1, 37: -1, 38: -1, 39: -1, 40: -1, 41: -1, 42: 1, 43: 1, 44: 1, 45: -1, 46: -1, 47: -1, 48: -1, 49: -1, 50: -1, 51: 1, 52: 1, 53: 1, 54: -1, 55: -1, 56: -1, 57: -1, 58: -1, 59: -1, 60: 1, 61: 1, 62: 1, 63: -1, 64: -1, 65: -1, 66: -1, 67: -1, 68: -1, 69: 1, 70: 1, 71: 1, 72: -1, 73: -1, 74: -1, 75: -1, 76: 1, 77: 1, 78: 1, 79: 1, 80: 1}, Energía: -135.92005909347878\n"
     ]
    }
   ],
   "source": [
    "# Usar D-Wave para encontrar la configuración con la energía más baja\n",
    "response = sampler.sample(model)\n",
    "\n",
    "# Imprimir la respuesta\n",
    "print(\"Posición: 0\")  # Solo hay un modelo, por lo que su posición es 0\n",
    "for sample, energy in response.data(['sample', 'energy']):\n",
    "    print(f\"  Configuración: {sample}, Energía: {energy}\")"
   ]
  }
 ],
 "metadata": {
  "kernelspec": {
   "display_name": "QC",
   "language": "python",
   "name": "python3"
  },
  "language_info": {
   "codemirror_mode": {
    "name": "ipython",
    "version": 3
   },
   "file_extension": ".py",
   "mimetype": "text/x-python",
   "name": "python",
   "nbconvert_exporter": "python",
   "pygments_lexer": "ipython3",
   "version": "3.8.19"
  }
 },
 "nbformat": 4,
 "nbformat_minor": 2
}
